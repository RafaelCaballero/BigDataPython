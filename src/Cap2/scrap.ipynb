{
 "cells": [
  {
   "cell_type": "markdown",
   "metadata": {},
   "source": [
    "# Big Data con Python\n",
    "\n",
    "#### Rafael Caballero, Enrique Martín y Adrián Riesco. Editorial RC libros\n",
    "\n",
    "## Capítulo 2:  ejemplo  de web scraping. Acceso a los datos del catastro\n"
   ]
  },
  {
   "cell_type": "markdown",
   "metadata": {},
   "source": [
    "El propósito de este notebook es mostrar como hacer web scraping de datos de una página, en este ejemplo del catastro,  que nos exige introducir previamente datos e interaccionar, en este caso seleccionando pestañas y pulsando botones.\n",
    "\n",
    "En particular utilizaremos la biblioteca *Selenium* que nos permite obtener automáticamente datos de páginas web dinámicas. Selenium está pensado realmente para automatizar pruebas de entornos web, pero a nosotros nos servirá para nuestro propósito de hacer web scraping.\n",
    "\n",
    "En particular, lo que vamos a hacer es arrancar google Chrome y manejarlo automáticamente desde Python.\n",
    "\n",
    "\n",
    "\n",
    "**Preparación**\n",
    "\n",
    "\n",
    "Para ello necesitamos 3 cosas:\n",
    "\n",
    "1.- Tener google Chrome\n",
    "\n",
    "2.- Instalar la biblioteca selenium (pip install selenium)\n",
    "\n",
    "3.- Tener un fichero controlador, un driver, de nombre *chromedriver.exe*.Esto lo vamos a hacer mediante la librería chromedriver_autoinstaller"
   ]
  },
  {
   "cell_type": "markdown",
   "metadata": {},
   "source": [
    "\n",
    "#### Paso 1: abrir navegador\n",
    "Comenzamos abriendo una sesión de Chrome de forma automática\n",
    "\n",
    "\n",
    "**Importante**\n",
    "Una vez que logremos que se abra el navegador no debemos teclear nada en él, ni cerrarlo el control lo llevaremos desde el programa en Python"
   ]
  },
  {
   "cell_type": "code",
   "execution_count": 8,
   "metadata": {},
   "outputs": [
    {
     "name": "stdout",
     "output_type": "stream",
     "text": [
      "Instalando módulos\n",
      "selenium  encontrado\n",
      "chromedriver_autoinstaller  encontrado\n",
      "¡Terminado!\n"
     ]
    }
   ],
   "source": [
    "modules = [\"selenium\",\"chromedriver_autoinstaller\"]\n",
    "\n",
    "\n",
    "import sys\n",
    "import os.path\n",
    "from subprocess import check_call\n",
    "import importlib\n",
    "import os\n",
    "\n",
    "def instala(modules):\n",
    "    print(\"Instalando módulos\")\n",
    "    for m in modules:\n",
    "        # para el import quitamos [...] y ==...\n",
    "        p = m.find(\"[\")\n",
    "        mi = m if p==-1 else m[:p]\n",
    "        p = mi.find(\"==\")\n",
    "        mi = mi if p==-1 else mi[:p]\n",
    "        torch_loader = importlib.util.find_spec(mi)\n",
    "        if torch_loader is not None:\n",
    "            print(m,\" encontrado\")\n",
    "        else:\n",
    "            print(m,\" No encontrado, instalando...\",end=\"\")  \n",
    "            try:        \n",
    "                r = check_call([sys.executable, \"-m\", \"pip\", \"install\", \"--user\",  m])\n",
    "                print(\"¡hecho!\")\n",
    "            except:\n",
    "                print(\"¡Problema al instalar \",m,\"! ¿seguro que el módulo existe?\",sep=\"\")\n",
    "\n",
    "    print(\"¡Terminado!\")\n",
    "\n",
    "instala(modules) "
   ]
  },
  {
   "cell_type": "code",
   "execution_count": 9,
   "metadata": {},
   "outputs": [],
   "source": [
    "import pandas as pd\n",
    "from bs4 import BeautifulSoup\n",
    "from selenium import webdriver\n",
    "import chromedriver_autoinstaller\n",
    "\n",
    "# setup chrome options\n",
    "chrome_options = webdriver.ChromeOptions()\n",
    "#chrome_options.add_argument('--headless') # ensure GUI is off\n",
    "#chrome_options.add_argument('--no-sandbox')\n",
    "#chrome_options.add_argument('--disable-dev-shm-usage')\n",
    "\n",
    "# set path to chromedriver as per your configuration\n",
    "chromedriver_autoinstaller.install()\n",
    "\n",
    "\n",
    "# set up the webdriver\n",
    "driver = webdriver.Chrome(options=chrome_options)"
   ]
  },
  {
   "cell_type": "markdown",
   "metadata": {},
   "source": [
    "### Paso 2: cargar página\n",
    "Una vez abierto el navegador lo siguiente es cargar la página que deseemos, en este caso la del catastro. Debemos ver cómo se carga la página correspondiente"
   ]
  },
  {
   "cell_type": "code",
   "execution_count": 17,
   "metadata": {},
   "outputs": [],
   "source": [
    "url = 'https://www1.sedecatastro.gob.es/CYCBienInmueble/OVCBusqueda.aspx'\n",
    "driver.get(url)"
   ]
  },
  {
   "cell_type": "markdown",
   "metadata": {},
   "source": [
    "Es cada vez más normal que al cargar la página tengamos que dar \"Aceptar\" para quitar el banner inicial sobre cookies"
   ]
  },
  {
   "cell_type": "code",
   "execution_count": 18,
   "metadata": {},
   "outputs": [
    {
     "name": "stdout",
     "output_type": "stream",
     "text": [
      "Cookies aceptadas.\n"
     ]
    }
   ],
   "source": [
    "from selenium.webdriver.common.by import By\n",
    "from selenium.webdriver.chrome.options import Options\n",
    "import time\n",
    "#aceptar las cookies\n",
    "\n",
    "try:\n",
    "    cookies = driver.find_element(By.LINK_TEXT, \"Aceptar cookies\")\n",
    "    cookies.click()\n",
    "    print(\"Cookies aceptadas.\")\n",
    "except Exception as e:\n",
    "    print(\"No se encontró el botón de aceptar cookies o ocurrió un error:\", e)\n"
   ]
  },
  {
   "cell_type": "markdown",
   "metadata": {},
   "source": [
    "### Paso 3, interacción con la página\n",
    "\n",
    "Ahora queremos seleccionar la pestaña coordenadas, ya que vamos a introducir las coordenadas de un lugar concreto. Esto se hace en dos fases: primero se selecciona el elemento y luego interaccionamos con él. En este caso comprobamos viendo el código fuente que la etiqueta COORDENADAS es un enlace, sobre el que deseamos hacer click\n"
   ]
  },
  {
   "cell_type": "code",
   "execution_count": 19,
   "metadata": {},
   "outputs": [],
   "source": [
    "from selenium.webdriver.common.by import By\n",
    "coord   = driver.find_element(By.LINK_TEXT,\"COORDENADAS\")\n",
    "coord.click()"
   ]
  },
  {
   "cell_type": "markdown",
   "metadata": {},
   "source": [
    "Ya en la pestaña, introducimos las coordenadas y hacemos click para buscar la información. En este ejemplo hemos puesto las coordenadas  long=1.893817, lat=41.545639, pero pueden ser otras cualesquiera"
   ]
  },
  {
   "cell_type": "code",
   "execution_count": 20,
   "metadata": {},
   "outputs": [],
   "source": [
    "lat = driver.find_element(By.ID,\"ctl00_Contenido_txtLatitud\")\n",
    "lon = driver.find_element(By.ID,\"ctl00_Contenido_txtLongitud\")\n",
    "latitud  = \"41.545639 \"\n",
    "longitud = \"1.893817\"\n",
    "lat.send_keys(latitud)\n",
    "lon.send_keys(longitud)\n",
    "\n",
    "datos = driver.find_element(By.NAME, \"ctl00$Contenido$btnDatos\")\n",
    "datos.click()\n"
   ]
  },
  {
   "cell_type": "markdown",
   "metadata": {},
   "source": [
    "Ahora supongamos que queremos determinar el uso principal de este inmueble, para ellos buscamos "
   ]
  },
  {
   "cell_type": "code",
   "execution_count": 21,
   "metadata": {},
   "outputs": [
    {
     "name": "stdout",
     "output_type": "stream",
     "text": [
      "7801701DF0070S0001QY    \n",
      "Religioso\n"
     ]
    }
   ],
   "source": [
    "xpath = \"//*[./span/text()='Referencia catastral']//label\"\n",
    "etiqs = driver.find_element(By.XPATH,xpath)\n",
    "print(etiqs.text)\n",
    "xpath = \"//*[./span/text()='Uso principal']//label\"\n",
    "etiqs = driver.find_element(By.XPATH,xpath)\n",
    "print(etiqs.text)"
   ]
  },
  {
   "cell_type": "markdown",
   "metadata": {},
   "source": [
    "### Otras pruebas"
   ]
  },
  {
   "cell_type": "markdown",
   "metadata": {},
   "source": [
    "Texto de la página"
   ]
  },
  {
   "cell_type": "code",
   "execution_count": 22,
   "metadata": {},
   "outputs": [
    {
     "name": "stdout",
     "output_type": "stream",
     "text": [
      "Formulario master\n",
      "Castellano\n",
      "ICONO CORREO ELECTRÓNICO\n",
      "CONTÁCTENOS\n",
      "Icono página de inicio\n",
      "Consulta y certificación de Bien Inmueble\n",
      "Volver\n",
      "CARTOGRAFÍA\n",
      "CONSULTA DESCRIPTIVA Y GRÁFICA\n",
      "IMPRIMIR DATOS\n",
      "VISOR 3D\n",
      "DATOS DESCRIPTIVOS DEL INMUEBLE\n",
      "Referencia catastral\n",
      "7801701DF0070S0001QY    \n",
      "Localización\n",
      "PZ NOVA 20\n",
      "08640 OLESA DE MONTSERRAT (BARCELONA)\n",
      "Clase\n",
      "Urbano\n",
      "Uso principal\n",
      "Religioso\n",
      "Superficie construida\n",
      "3.221 m2\n",
      "Año construcción\n",
      "1400\n",
      "PARCELA CATASTRAL\n",
      "\n",
      "Parcela construida sin división horizontal\n",
      "Localización\n",
      "PZ NOVA 20\n",
      "OLESA DE MONTSERRAT (BARCELONA)\n",
      "Superficie gráfica\n",
      "1.884 m2\n",
      "CONSTRUCCIÓN\n",
      "Uso principal Escalera Planta Puerta Superficie m2 Tipo Reforma Fecha Reforma\n",
      "RELIGIOSO T OD OS 2.117 I Reforma mínima 1.960\n",
      "RELIGIOSO T OD OS 249 I Reforma mínima 1.960\n",
      "ALMACEN T OD OS 765 I Reforma mínima 1.960\n",
      "RELIGIOSO 1 00 01 13 O Reforma total 2.002\n",
      "RELIGIOSO 1 01 01 26 O Reforma total 2.002\n",
      "RELIGIOSO 1 01 01 51\n",
      "¿Cómo se pueden obtener datos protegidos (titularidad y valor catastral) de los inmuebles y certificados telemáticos de los mismos?\n",
      "\n",
      "\n",
      "\n",
      "\n",
      "\n",
      "\n",
      "\n",
      "\n",
      "Normativa reguladora\n",
      "Política de privacidad\n",
      "Accesibilidad\n",
      "Mapa web\n"
     ]
    }
   ],
   "source": [
    "html = driver.find_element(By.XPATH,\"/html\")\n",
    "print(html.text)"
   ]
  },
  {
   "cell_type": "markdown",
   "metadata": {},
   "source": [
    "Caminos absolutos"
   ]
  },
  {
   "cell_type": "code",
   "execution_count": 23,
   "metadata": {},
   "outputs": [],
   "source": [
    "head = driver.find_element(By.XPATH,\"/html/head\")\n",
    "body = driver.find_element(By.XPATH,\"/html/body\")\n",
    "html2 = body.find_element(By.XPATH,\"/html\")"
   ]
  },
  {
   "cell_type": "markdown",
   "metadata": {},
   "source": [
    "Hijos de un elemento"
   ]
  },
  {
   "cell_type": "code",
   "execution_count": 24,
   "metadata": {},
   "outputs": [
    {
     "name": "stdout",
     "output_type": "stream",
     "text": [
      "div\n",
      "div\n",
      "form\n",
      "div\n",
      "script\n",
      "a\n",
      "script\n",
      "link\n",
      "script\n",
      "script\n",
      "script\n"
     ]
    }
   ],
   "source": [
    "hijos = driver.find_elements(By.XPATH,\"/html/body/*\")\n",
    "for element in hijos:\n",
    "    print(element.tag_name)"
   ]
  },
  {
   "cell_type": "markdown",
   "metadata": {},
   "source": [
    "Camino relativo"
   ]
  },
  {
   "cell_type": "code",
   "execution_count": null,
   "metadata": {},
   "outputs": [],
   "source": [
    "divs = driver.find_elements(By.XPATH,\"/html/body/*/div\")\n",
    "print(len(divs))"
   ]
  },
  {
   "cell_type": "code",
   "execution_count": null,
   "metadata": {},
   "outputs": [],
   "source": [
    "divs = body.find_elements(By.XPATH,\"./*/div\")\n",
    "print(len(divs))"
   ]
  },
  {
   "cell_type": "markdown",
   "metadata": {},
   "source": [
    "Saltar pasos intermedios"
   ]
  },
  {
   "cell_type": "code",
   "execution_count": null,
   "metadata": {},
   "outputs": [],
   "source": [
    "divs = driver.find_elements(By.XPATH,\"/html/body//div\")\n",
    "print(len(divs))"
   ]
  },
  {
   "cell_type": "code",
   "execution_count": null,
   "metadata": {},
   "outputs": [],
   "source": [
    "labels = driver.find_elements(By.XPATH,\"//label\")\n",
    "print(len(labels))"
   ]
  },
  {
   "cell_type": "markdown",
   "metadata": {},
   "source": [
    "Insertar texto"
   ]
  },
  {
   "cell_type": "code",
   "execution_count": 7,
   "metadata": {},
   "outputs": [
    {
     "name": "stdout",
     "output_type": "stream",
     "text": [
      "7801701DF0070S0001QY    \n"
     ]
    }
   ],
   "source": [
    "id = \"ctl00_Contenido_tblInmueble\"\n",
    "div = driver.find_element(By.ID,id)\n",
    "label = div.find_element(By.XPATH,\"//label\")\n",
    "print(label.text)"
   ]
  },
  {
   "cell_type": "code",
   "execution_count": null,
   "metadata": {},
   "outputs": [],
   "source": [
    "xpath = \"//*[./span/text()='Referencia catastral']//label\"\n",
    "etiqs = driver.find_element(By.XPATH,xpath)\n",
    "print(etiqs.text)"
   ]
  },
  {
   "cell_type": "code",
   "execution_count": 8,
   "metadata": {},
   "outputs": [
    {
     "name": "stdout",
     "output_type": "stream",
     "text": [
      "\n",
      "\n",
      "\n"
     ]
    }
   ],
   "source": [
    "clase = driver.find_elements(By.XPATH,\"(//label)[position()=3]\")\n",
    "print(clase[0].text)\n",
    "\n",
    "etiqs = driver.find_elements(By.XPATH,\"//label\")\n",
    "print(etiqs[2].text)\n",
    "\n",
    "ulti = driver.find_elements(By.XPATH,\"(//label)[last()]\")\n",
    "print(ulti[0].text)\n"
   ]
  },
  {
   "cell_type": "code",
   "execution_count": 9,
   "metadata": {},
   "outputs": [],
   "source": [
    "driver.close()"
   ]
  },
  {
   "cell_type": "markdown",
   "metadata": {},
   "source": [
    "Por Rafael Caballero. Del libro \"Big data con Python\". Gracias a José Ramón Guerra por las actualizaciones"
   ]
  },
  {
   "cell_type": "code",
   "execution_count": null,
   "metadata": {},
   "outputs": [],
   "source": []
  }
 ],
 "metadata": {
  "kernelspec": {
   "display_name": "Python 3 (ipykernel)",
   "language": "python",
   "name": "python3"
  },
  "language_info": {
   "codemirror_mode": {
    "name": "ipython",
    "version": 3
   },
   "file_extension": ".py",
   "mimetype": "text/x-python",
   "name": "python",
   "nbconvert_exporter": "python",
   "pygments_lexer": "ipython3",
   "version": "3.11.4"
  }
 },
 "nbformat": 4,
 "nbformat_minor": 2
}
