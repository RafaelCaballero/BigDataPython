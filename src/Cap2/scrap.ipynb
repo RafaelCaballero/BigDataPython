{
 "cells": [
  {
   "cell_type": "markdown",
   "metadata": {},
   "source": [
    "# Big Data con Python\n",
    "\n",
    "#### Rafael Caballero, Enrique Martín y Adrián Riesco. Editorial RC libros\n",
    "\n",
    "## Capítulo 2:  ejemplo  de web scraping. Acceso a los datos del catastro\n"
   ]
  },
  {
   "cell_type": "markdown",
   "metadata": {},
   "source": [
    "El propósito de este notebook es mostrar como hacer web scraping de datos de una página, en este ejemplo del catastro,  que nos exige introducir previamente datos e interaccionar, en este caso seleccionando pestañas y pulsando botones.\n",
    "\n",
    "En particular utilizaremos la biblioteca *Selenium* que nos permite obtener automáticamente datos de páginas web dinámicas. Selenium está pensado realmente para automatizar pruebas de entornos web, pero a nosotros nos servirá para nuestro propósito de hacer web scraping.\n",
    "\n",
    "En particular, lo que vamos a hacer es arrancar google Chrome y manejarlo automáticamente desde Python.\n",
    "\n",
    "\n",
    "\n",
    "**Preparación**\n",
    "\n",
    "\n",
    "Para ello necesitamos 3 cosas:\n",
    "\n",
    "1.- Tener google Chrome\n",
    "\n",
    "2.- Instalar la biblioteca selenium (pip install selenium)\n",
    "\n",
    "3.- Tener un fichero controlador, un driver, de nombre *chromedriver.exe*. En nuestro caso supondremos que se encuentra en la carpeta c:/hlocal/tdm. El driver correspondiente a la versión de Chrome que tengamos se puede descargar de https://sites.google.com/a/chromium.org/chromedriver/downloads"
   ]
  },
  {
   "cell_type": "markdown",
   "metadata": {},
   "source": [
    "\n",
    "#### Paso 1: abrir navegador\n",
    "Comenzamos abriendo una sesión de Chrome de forma automática\n",
    "\n",
    "\n",
    "**Errores comunes**\n",
    "\n",
    "Es posible que al ejecutar este código obtengamos un error del tipo:\n",
    "    \n",
    "    SessionNotCreatedException: Message: session not created: This version of ChromeDriver only supports Chrome version 87. Current browser version is 90.0.4430.212 with binary path.....\n",
    "    \n",
    " o similar. Esto indica que nuestra versión del driver no corresponde con la de nuestro navegador. La versión de Chrome, aunque nos la da el mensaje, la podemos consultar en el propio navegador, en *Configuración* (dentro del menú que se abre al hacer click sobre los 3 puntitos verticales, arriba a la derecha) + *Información de Chrome*.\n",
    " \n",
    " Con esta información iremos a  https://sites.google.com/a/chromium.org/chromedriver/downloads y descargaremos y descomprimiremos el fichero chromedriver correspondiente y ponemos el path correspondiente en la variable chromedriver\n",
    " \n",
    " \n",
    " Otro error que podemos obtener es alguno del tipo *FileNotFound* que se deberá, casi con seguridad a que debemos cambiar el path almacenado en la variable chromedriver del siguiente código\n",
    "\n",
    "\n",
    "**Importante**\n",
    "Una vez que logremos ques e abra el navegador no debemos teclear nada en él, ni cerrarlo el control lo llevaremos desde el programa en Python"
   ]
  },
  {
   "cell_type": "code",
   "execution_count": 6,
   "metadata": {},
   "outputs": [
    {
     "name": "stdout",
     "output_type": "stream",
     "text": [
      "Requirement already up-to-date: selenium in c:\\users\\rafa\\appdata\\roaming\\python\\python38\\site-packages (4.4.3)\n",
      "Requirement already satisfied, skipping upgrade: trio~=0.17 in c:\\users\\rafa\\appdata\\roaming\\python\\python38\\site-packages (from selenium) (0.21.0)\n",
      "Requirement already satisfied, skipping upgrade: certifi>=2021.10.8 in c:\\users\\rafa\\appdata\\roaming\\python\\python38\\site-packages (from selenium) (2022.9.14)\n",
      "Requirement already satisfied, skipping upgrade: urllib3[socks]~=1.26 in c:\\users\\rafa\\appdata\\roaming\\python\\python38\\site-packages (from selenium) (1.26.9)\n",
      "Requirement already satisfied, skipping upgrade: trio-websocket~=0.9 in c:\\users\\rafa\\appdata\\roaming\\python\\python38\\site-packages (from selenium) (0.9.2)\n",
      "Requirement already satisfied, skipping upgrade: idna in d:\\instalado\\anacondainstalado\\lib\\site-packages (from trio~=0.17->selenium) (2.10)\n",
      "Requirement already satisfied, skipping upgrade: sniffio in c:\\users\\rafa\\appdata\\roaming\\python\\python38\\site-packages (from trio~=0.17->selenium) (1.3.0)\n",
      "Requirement already satisfied, skipping upgrade: cffi>=1.14; os_name == \"nt\" and implementation_name != \"pypy\" in d:\\instalado\\anacondainstalado\\lib\\site-packages (from trio~=0.17->selenium) (1.14.3)\n",
      "Requirement already satisfied, skipping upgrade: sortedcontainers in d:\\instalado\\anacondainstalado\\lib\\site-packages (from trio~=0.17->selenium) (2.2.2)\n",
      "Requirement already satisfied, skipping upgrade: outcome in c:\\users\\rafa\\appdata\\roaming\\python\\python38\\site-packages (from trio~=0.17->selenium) (1.2.0)\n",
      "Requirement already satisfied, skipping upgrade: attrs>=19.2.0 in d:\\instalado\\anacondainstalado\\lib\\site-packages (from trio~=0.17->selenium) (20.3.0)\n",
      "Requirement already satisfied, skipping upgrade: async-generator>=1.9 in d:\\instalado\\anacondainstalado\\lib\\site-packages (from trio~=0.17->selenium) (1.10)\n",
      "Requirement already satisfied, skipping upgrade: PySocks!=1.5.7,<2.0,>=1.5.6; extra == \"socks\" in d:\\instalado\\anacondainstalado\\lib\\site-packages (from urllib3[socks]~=1.26->selenium) (1.7.1)\n",
      "Requirement already satisfied, skipping upgrade: wsproto>=0.14 in c:\\users\\rafa\\appdata\\roaming\\python\\python38\\site-packages (from trio-websocket~=0.9->selenium) (1.2.0)\n",
      "Requirement already satisfied, skipping upgrade: pycparser in d:\\instalado\\anacondainstalado\\lib\\site-packages (from cffi>=1.14; os_name == \"nt\" and implementation_name != \"pypy\"->trio~=0.17->selenium) (2.20)\n",
      "Requirement already satisfied, skipping upgrade: h11<1,>=0.9.0 in c:\\users\\rafa\\appdata\\roaming\\python\\python38\\site-packages (from wsproto>=0.14->trio-websocket~=0.9->selenium) (0.13.0)\n"
     ]
    }
   ],
   "source": [
    "# ejecutar esta casilla solo si queremos instalar o actualizar selenium; \n",
    "# muchas veces tras hacerlo deberemos hacer \"Kernel->restart\" para que los cambios se apliquen\n",
    "import sys\n",
    "!{sys.executable} -m pip install --upgrade --user selenium"
   ]
  },
  {
   "cell_type": "code",
   "execution_count": 1,
   "metadata": {},
   "outputs": [
    {
     "name": "stderr",
     "output_type": "stream",
     "text": [
      "<ipython-input-1-cfdeb6085767>:7: DeprecationWarning: executable_path has been deprecated, please pass in a Service object\n",
      "  driver = webdriver.Chrome(executable_path=chromedriver,options=chrome_options)\n"
     ]
    }
   ],
   "source": [
    "chromedriver = \"./chromedriver.exe\" # cambiar esta variable con el path a nuestro chromedriver\n",
    "import os\n",
    "from selenium import webdriver  # si da error, desde anaconda prompt hacer pip install --user  selenium\n",
    "os.environ[\"webdriver.chrome.driver\"] = chromedriver\n",
    "chrome_options = webdriver.ChromeOptions()\n",
    "chrome_options.add_argument('--no-sandbox')\n",
    "driver = webdriver.Chrome(executable_path=chromedriver,options=chrome_options)"
   ]
  },
  {
   "cell_type": "markdown",
   "metadata": {},
   "source": [
    "### Paso 2: cargar página\n",
    "Una vez abierto el navegador lo siguiente es cargar la página que deseemos, en este caso la del catastro. Debemos ver cómo se carga la página correspondiente"
   ]
  },
  {
   "cell_type": "code",
   "execution_count": 2,
   "metadata": {},
   "outputs": [],
   "source": [
    "url = 'https://www1.sedecatastro.gob.es/CYCBienInmueble/OVCBusqueda.aspx'\n",
    "driver.get(url)"
   ]
  },
  {
   "cell_type": "markdown",
   "metadata": {},
   "source": [
    "### Paso 3, interacción con la página\n",
    "\n",
    "Ahora queremos seleccionar la pestaña coordenadas, ya que vamos a introducir las coordenadas de un lugar concreto. Esto se hace en dos fases: primero se selecciona el elemento y luego interaccionamos con él. En este caso comprobamos viendo el código fuente que la etiqueta COORDENADAS es un enlace, sobre el que deseamos hacer click\n"
   ]
  },
  {
   "cell_type": "code",
   "execution_count": 3,
   "metadata": {},
   "outputs": [],
   "source": [
    "from selenium.webdriver.common.by import By\n",
    "coord   = driver.find_element(By.LINK_TEXT,\"COORDENADAS\")\n",
    "coord.click()"
   ]
  },
  {
   "cell_type": "markdown",
   "metadata": {},
   "source": [
    "Ya en la pestaña, introducimos las coordenadas y hacemos click para buscar la información. En este ejemplo hemos puesto las coordenadas  long=1.893817, lat=41.545639, pero pueden ser otras cualesquiera"
   ]
  },
  {
   "cell_type": "code",
   "execution_count": 4,
   "metadata": {},
   "outputs": [],
   "source": [
    "lat = driver.find_element(By.ID,\"ctl00_Contenido_txtLatitud\")\n",
    "lon = driver.find_element(By.ID,\"ctl00_Contenido_txtLongitud\")\n",
    "latitud  = \"41.545639 \"\n",
    "longitud = \"1.893817\"\n",
    "lat.send_keys(latitud)\n",
    "lon.send_keys(longitud)\n",
    "\n",
    "datos = driver.find_element(By.ID,\"ctl00_Contenido_btnDatos\")\n",
    "datos.click()"
   ]
  },
  {
   "cell_type": "markdown",
   "metadata": {},
   "source": [
    "Ahora supongamos que queremos determinar el uso principal de este inmueble, para ellos buscamos "
   ]
  },
  {
   "cell_type": "code",
   "execution_count": 6,
   "metadata": {},
   "outputs": [
    {
     "name": "stdout",
     "output_type": "stream",
     "text": [
      "7801701DF0070S0001QY    \n",
      "Religioso\n"
     ]
    }
   ],
   "source": [
    "xpath = \"//*[./span/text()='Referencia catastral']//label\"\n",
    "etiqs = driver.find_element(By.XPATH,xpath)\n",
    "print(etiqs.text)\n",
    "xpath = \"//*[./span/text()='Uso principal']//label\"\n",
    "etiqs = driver.find_element(By.XPATH,xpath)\n",
    "print(etiqs.text)"
   ]
  },
  {
   "cell_type": "markdown",
   "metadata": {},
   "source": [
    "### Otras pruebas"
   ]
  },
  {
   "cell_type": "markdown",
   "metadata": {},
   "source": [
    "Texto de la página"
   ]
  },
  {
   "cell_type": "code",
   "execution_count": null,
   "metadata": {},
   "outputs": [],
   "source": [
    "html = driver.find_element(By.XPATH,\"/html\")\n",
    "print(html.text)"
   ]
  },
  {
   "cell_type": "markdown",
   "metadata": {},
   "source": [
    "Caminos absolutos"
   ]
  },
  {
   "cell_type": "code",
   "execution_count": null,
   "metadata": {},
   "outputs": [],
   "source": [
    "head = driver.find_element(By.XPATH,\"/html/head\")\n",
    "body = driver.find_element(By.XPATH,\"/html/body\")\n",
    "html2 = body.find_element(By.XPATH,\"/html\")"
   ]
  },
  {
   "cell_type": "markdown",
   "metadata": {},
   "source": [
    "Hijos de un elemento"
   ]
  },
  {
   "cell_type": "code",
   "execution_count": null,
   "metadata": {},
   "outputs": [],
   "source": [
    "hijos = driver.find_elements(By.XPATH,\"/html/body/*\")\n",
    "for element in hijos:\n",
    "  print(element.tag_name)"
   ]
  },
  {
   "cell_type": "markdown",
   "metadata": {},
   "source": [
    "Camino relativo"
   ]
  },
  {
   "cell_type": "code",
   "execution_count": null,
   "metadata": {},
   "outputs": [],
   "source": [
    "divs = driver.find_elements(By.XPATH,\"/html/body/*/div\")\n",
    "print(len(divs))"
   ]
  },
  {
   "cell_type": "code",
   "execution_count": null,
   "metadata": {},
   "outputs": [],
   "source": [
    "divs = body.find_elements(By.XPATH,\"./*/div\")\n",
    "print(len(divs))"
   ]
  },
  {
   "cell_type": "markdown",
   "metadata": {},
   "source": [
    "Saltar pasos intermedios"
   ]
  },
  {
   "cell_type": "code",
   "execution_count": null,
   "metadata": {},
   "outputs": [],
   "source": [
    "divs = driver.find_elements(By.XPATH,\"/html/body//div\")\n",
    "print(len(divs))"
   ]
  },
  {
   "cell_type": "code",
   "execution_count": null,
   "metadata": {},
   "outputs": [],
   "source": [
    "labels = driver.find_elements(By.XPATH,\"//label\")\n",
    "print(len(labels))"
   ]
  },
  {
   "cell_type": "markdown",
   "metadata": {},
   "source": [
    "Insertar texto"
   ]
  },
  {
   "cell_type": "code",
   "execution_count": 7,
   "metadata": {},
   "outputs": [
    {
     "name": "stdout",
     "output_type": "stream",
     "text": [
      "7801701DF0070S0001QY    \n"
     ]
    }
   ],
   "source": [
    "id = \"ctl00_Contenido_tblInmueble\"\n",
    "div = driver.find_element(By.ID,id)\n",
    "label = div.find_element(By.XPATH,\"//label\")\n",
    "print(label.text)"
   ]
  },
  {
   "cell_type": "code",
   "execution_count": null,
   "metadata": {},
   "outputs": [],
   "source": [
    "xpath = \"//*[./span/text()='Referencia catastral']//label\"\n",
    "etiqs = driver.find_element(By.XPATH,xpath)\n",
    "print(etiqs.text)"
   ]
  },
  {
   "cell_type": "code",
   "execution_count": 8,
   "metadata": {},
   "outputs": [
    {
     "name": "stdout",
     "output_type": "stream",
     "text": [
      "\n",
      "\n",
      "\n"
     ]
    }
   ],
   "source": [
    "clase = driver.find_elements(By.XPATH,\"(//label)[position()=3]\")\n",
    "print(clase[0].text)\n",
    "\n",
    "etiqs = driver.find_elements(By.XPATH,\"//label\")\n",
    "print(etiqs[2].text)\n",
    "\n",
    "ulti = driver.find_elements(By.XPATH,\"(//label)[last()]\")\n",
    "print(ulti[0].text)\n"
   ]
  },
  {
   "cell_type": "code",
   "execution_count": 9,
   "metadata": {},
   "outputs": [],
   "source": [
    "driver.close()"
   ]
  },
  {
   "cell_type": "markdown",
   "metadata": {},
   "source": [
    "Por Rafael Caballero. Del libro \"Big data con Python\""
   ]
  },
  {
   "cell_type": "code",
   "execution_count": null,
   "metadata": {},
   "outputs": [],
   "source": []
  }
 ],
 "metadata": {
  "kernelspec": {
   "display_name": "Python 3",
   "language": "python",
   "name": "python3"
  },
  "language_info": {
   "codemirror_mode": {
    "name": "ipython",
    "version": 3
   },
   "file_extension": ".py",
   "mimetype": "text/x-python",
   "name": "python",
   "nbconvert_exporter": "python",
   "pygments_lexer": "ipython3",
   "version": "3.8.5"
  }
 },
 "nbformat": 4,
 "nbformat_minor": 2
}
